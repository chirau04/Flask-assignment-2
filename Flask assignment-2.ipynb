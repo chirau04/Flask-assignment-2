{
 "cells": [
  {
   "cell_type": "markdown",
   "id": "b8e599b3-14f9-407b-b18f-957edc8e8c65",
   "metadata": {},
   "source": [
    "Sure, GET and POST are HTTP methods used for communication between a client and a server. GET is used to request data from a specified resource, and the parameters are appended to the URL. \n",
    "POST is used to submit data to be processed to a specified resource, and the data is sent in the body of the HTTP request. \n",
    "In simpler terms, GET is like asking for information, while POST is like submitting information."
   ]
  },
  {
   "cell_type": "markdown",
   "id": "5882100c-e4d5-46fd-8766-9daaa982802f",
   "metadata": {},
   "source": [
    "In Flask, the request object allows you to access incoming data from the client, such as form data or JSON. \n",
    "It provides a way to handle and process information sent by a user's browser in an HTTP request. \n",
    "This object allows you to access parameters, form data, files, and other details sent in the request, making it essential for handling user input and performing actions based on that input within your Flask application."
   ]
  },
  {
   "cell_type": "markdown",
   "id": "3e107b49-4159-4af6-820b-4f2fcda8d067",
   "metadata": {},
   "source": [
    "redirect() in Flask is used to redirect the user to a different endpoint or URL. This can be useful in various scenarios, such as after the successful submission of a form or when you want to guide the user to a different page after a certain action.\n",
    "\n",
    "For example, after processing a form submission, you might want to redirect the user to a \"thank you\" page rather than keeping them on the form submission page. It helps in organizing the flow of your web application and providing a better user experience."
   ]
  },
  {
   "cell_type": "markdown",
   "id": "36a0b79a-0fd4-43fb-972e-08737d3d9689",
   "metadata": {},
   "source": [
    "Templates in Flask are used to create dynamic HTML content by embedding placeholders that are replaced with actual values during rendering. They allow you to separate the structure of your web pages from the Python code in your application.\n",
    "\n",
    "The render_template() function in Flask is used to render these templates. It takes the name of the template file as an argument, along with any data you want to pass to the template. This function processes the template, replacing placeholders with the provided data, and returns the resulting HTML to be sent to the client's browser. It helps in creating dynamic and data-driven web pages efficiently."
   ]
  },
  {
   "cell_type": "code",
   "execution_count": 1,
   "id": "4d7658bf-55d6-4a45-bcbc-a436b7c30dcd",
   "metadata": {},
   "outputs": [
    {
     "name": "stdout",
     "output_type": "stream",
     "text": [
      "Collecting flask\n",
      "  Downloading flask-3.0.0-py3-none-any.whl (99 kB)\n",
      "\u001b[2K     \u001b[90m━━━━━━━━━━━━━━━━━━━━━━━━━━━━━━━━━━━━━━━━\u001b[0m \u001b[32m99.7/99.7 kB\u001b[0m \u001b[31m13.2 MB/s\u001b[0m eta \u001b[36m0:00:00\u001b[0m\n",
      "\u001b[?25hRequirement already satisfied: Jinja2>=3.1.2 in /opt/conda/lib/python3.10/site-packages (from flask) (3.1.2)\n",
      "Collecting itsdangerous>=2.1.2\n",
      "  Downloading itsdangerous-2.1.2-py3-none-any.whl (15 kB)\n",
      "Collecting blinker>=1.6.2\n",
      "  Downloading blinker-1.7.0-py3-none-any.whl (13 kB)\n",
      "Collecting Werkzeug>=3.0.0\n",
      "  Downloading werkzeug-3.0.1-py3-none-any.whl (226 kB)\n",
      "\u001b[2K     \u001b[90m━━━━━━━━━━━━━━━━━━━━━━━━━━━━━━━━━━━━━━\u001b[0m \u001b[32m226.7/226.7 kB\u001b[0m \u001b[31m28.2 MB/s\u001b[0m eta \u001b[36m0:00:00\u001b[0m\n",
      "\u001b[?25hRequirement already satisfied: click>=8.1.3 in /opt/conda/lib/python3.10/site-packages (from flask) (8.1.3)\n",
      "Requirement already satisfied: MarkupSafe>=2.0 in /opt/conda/lib/python3.10/site-packages (from Jinja2>=3.1.2->flask) (2.1.1)\n",
      "Installing collected packages: Werkzeug, itsdangerous, blinker, flask\n",
      "  Attempting uninstall: blinker\n",
      "    Found existing installation: blinker 1.5\n",
      "    Uninstalling blinker-1.5:\n",
      "      Successfully uninstalled blinker-1.5\n",
      "Successfully installed Werkzeug-3.0.1 blinker-1.7.0 flask-3.0.0 itsdangerous-2.1.2\n",
      "Note: you may need to restart the kernel to use updated packages.\n"
     ]
    }
   ],
   "source": [
    "pip install flask"
   ]
  },
  {
   "cell_type": "code",
   "execution_count": 2,
   "id": "46668563-8f00-4b86-9c74-ac5b84665c83",
   "metadata": {},
   "outputs": [
    {
     "ename": "NameError",
     "evalue": "name 'name' is not defined",
     "output_type": "error",
     "traceback": [
      "\u001b[0;31m---------------------------------------------------------------------------\u001b[0m",
      "\u001b[0;31mNameError\u001b[0m                                 Traceback (most recent call last)",
      "Cell \u001b[0;32mIn[2], line 3\u001b[0m\n\u001b[1;32m      1\u001b[0m \u001b[38;5;28;01mfrom\u001b[39;00m \u001b[38;5;21;01mflask\u001b[39;00m \u001b[38;5;28;01mimport\u001b[39;00m Flask, request, jsonify\n\u001b[0;32m----> 3\u001b[0m app \u001b[38;5;241m=\u001b[39m Flask(\u001b[43mname\u001b[49m)\n\u001b[1;32m      5\u001b[0m \u001b[38;5;129m@app\u001b[39m\u001b[38;5;241m.\u001b[39mroute(\u001b[38;5;124m'\u001b[39m\u001b[38;5;124m/api/example\u001b[39m\u001b[38;5;124m'\u001b[39m, methods\u001b[38;5;241m=\u001b[39m[\u001b[38;5;124m'\u001b[39m\u001b[38;5;124mPOST\u001b[39m\u001b[38;5;124m'\u001b[39m])\n\u001b[1;32m      6\u001b[0m \u001b[38;5;28;01mdef\u001b[39;00m \u001b[38;5;21mexample_api\u001b[39m():\n\u001b[1;32m      7\u001b[0m     data \u001b[38;5;241m=\u001b[39m request\u001b[38;5;241m.\u001b[39mget_json()  \u001b[38;5;66;03m# Get JSON data from the request\u001b[39;00m\n",
      "\u001b[0;31mNameError\u001b[0m: name 'name' is not defined"
     ]
    }
   ],
   "source": [
    "from flask import Flask, request, jsonify\n",
    "\n",
    "app = Flask(name)\n",
    "\n",
    "@app.route('/api/example', methods=['POST'])\n",
    "def example_api():\n",
    "    data = request.get_json()  # Get JSON data from the request\n",
    "    result = {'message': 'Received data:', 'data': data}\n",
    "    return jsonify(result)\n",
    "\n",
    "if name == 'main':\n",
    "    app.run(debug=True)"
   ]
  },
  {
   "cell_type": "code",
   "execution_count": null,
   "id": "b25ee66e-d0cb-4e6a-8bed-6ec2210abcda",
   "metadata": {},
   "outputs": [],
   "source": []
  }
 ],
 "metadata": {
  "kernelspec": {
   "display_name": "Python 3 (ipykernel)",
   "language": "python",
   "name": "python3"
  },
  "language_info": {
   "codemirror_mode": {
    "name": "ipython",
    "version": 3
   },
   "file_extension": ".py",
   "mimetype": "text/x-python",
   "name": "python",
   "nbconvert_exporter": "python",
   "pygments_lexer": "ipython3",
   "version": "3.10.8"
  }
 },
 "nbformat": 4,
 "nbformat_minor": 5
}
